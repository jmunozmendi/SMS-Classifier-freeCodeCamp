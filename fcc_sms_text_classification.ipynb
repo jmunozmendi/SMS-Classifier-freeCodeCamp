{
  "cells": [
    {
      "cell_type": "markdown",
      "metadata": {
        "id": "Eg62Pmz3o83v"
      },
      "source": [
        "*Note: You are currently reading this using Google Colaboratory which is a cloud-hosted version of Jupyter Notebook. This is a document containing both text cells for documentation and runnable code cells. If you are unfamiliar with Jupyter Notebook, watch this 3-minute introduction before starting this challenge: https://www.youtube.com/watch?v=inN8seMm7UI*\n",
        "\n",
        "---\n",
        "\n",
        "In this challenge, you need to create a machine learning model that will classify SMS messages as either \"ham\" or \"spam\". A \"ham\" message is a normal message sent by a friend. A \"spam\" message is an advertisement or a message sent by a company.\n",
        "\n",
        "You should create a function called `predict_message` that takes a message string as an argument and returns a list. The first element in the list should be a number between zero and one that indicates the likeliness of \"ham\" (0) or \"spam\" (1). The second element in the list should be the word \"ham\" or \"spam\", depending on which is most likely.\n",
        "\n",
        "For this challenge, you will use the [SMS Spam Collection dataset](http://www.dt.fee.unicamp.br/~tiago/smsspamcollection/). The dataset has already been grouped into train data and test data.\n",
        "\n",
        "The first two cells import the libraries and data. The final cell tests your model and function. Add your code in between these cells.\n"
      ]
    },
    {
      "cell_type": "code",
      "execution_count": null,
      "metadata": {
        "id": "8RZOuS9LWQvv"
      },
      "outputs": [],
      "source": [
        "# import libraries\n",
        "try:\n",
        "  # %tensorflow_version only exists in Colab.\n",
        "  !pip install tf-nightly\n",
        "except Exception:\n",
        "  pass\n",
        "import tensorflow as tf\n",
        "import pandas as pd\n",
        "from tensorflow import keras\n",
        "!pip install tensorflow-datasets\n",
        "import tensorflow_datasets as tfds\n",
        "import numpy as np\n",
        "import matplotlib.pyplot as plt\n",
        "\n",
        "print(tf.__version__)"
      ]
    },
    {
      "cell_type": "code",
      "execution_count": null,
      "metadata": {
        "id": "lMHwYXHXCar3"
      },
      "outputs": [],
      "source": [
        "# get data files\n",
        "!wget https://cdn.freecodecamp.org/project-data/sms/train-data.tsv\n",
        "!wget https://cdn.freecodecamp.org/project-data/sms/valid-data.tsv\n",
        "\n",
        "train_file_path = \"train-data.tsv\"\n",
        "test_file_path = \"valid-data.tsv\""
      ]
    },
    {
      "cell_type": "code",
      "execution_count": null,
      "metadata": {
        "id": "g_h508FEClxO"
      },
      "outputs": [],
      "source": [
        "# Get text and labels for train data\n",
        "f = open(\"train-data.tsv\", \"r\")\n",
        "train_labels = []\n",
        "train_msgs = []\n",
        "total_words = \"\"\n",
        "for line in f:\n",
        "  if line[0] == 'h':\n",
        "    train_labels.append(1)\n",
        "    train_msgs.append(line[4:].rstrip())\n",
        "    total_words += line[4:].rstrip() + ' '\n",
        "  else:\n",
        "    train_labels.append(0)\n",
        "    train_msgs.append(line[5:].rstrip())\n",
        "    total_words += line[5:].rstrip() + ' '\n",
        "f.close()\n"
      ]
    },
    {
      "cell_type": "code",
      "source": [
        "# Get text and labels for test data\n",
        "f = open(\"valid-data.tsv\", \"r\")\n",
        "test_labels = []\n",
        "test_msgs = []\n",
        "for line in f:\n",
        "  if line[0] == 'h':\n",
        "    test_labels.append(1)\n",
        "    test_msgs.append(line[4:].rstrip())\n",
        "    total_words += line[4:].rstrip() + ' '\n",
        "  else:\n",
        "    test_labels.append(0)\n",
        "    test_msgs.append(line[5:].rstrip())\n",
        "    total_words += line[5:].rstrip() + ' '\n",
        "f.close()"
      ],
      "metadata": {
        "id": "olgSuTYn0pJ8"
      },
      "execution_count": null,
      "outputs": []
    },
    {
      "cell_type": "code",
      "execution_count": null,
      "metadata": {
        "id": "zOMKywn4zReN"
      },
      "outputs": [],
      "source": [
        "total_words"
      ]
    },
    {
      "cell_type": "code",
      "source": [
        "# Create vocabulary converting words to indexes\n",
        "unique_words = set(total_words.split(' '))\n",
        "unique_words.remove('')\n",
        "vocabulary = {value:key for (key,value) in enumerate(unique_words,1)}\n",
        "print(vocabulary)"
      ],
      "metadata": {
        "id": "oIUXKKzz3HXk"
      },
      "execution_count": null,
      "outputs": []
    },
    {
      "cell_type": "code",
      "source": [
        "# Encode train and test messages with vocabulary\n",
        "MAXLEN = 20\n",
        "def encode_text(text):\n",
        "  tokens = keras.preprocessing.text.text_to_word_sequence(text)\n",
        "  tokens = [vocabulary[word] if word in vocabulary else 0 for word in tokens]\n",
        "  return keras.preprocessing.sequence.pad_sequences([tokens], MAXLEN)[0]"
      ],
      "metadata": {
        "id": "jqKP5TJt55Ps"
      },
      "execution_count": null,
      "outputs": []
    },
    {
      "cell_type": "code",
      "source": [
        "# Preprocess data\n",
        "train_data = []\n",
        "for msg in train_msgs:\n",
        "  train_data.append(encode_text(msg))\n",
        "test_data = []\n",
        "for msg in test_msgs:\n",
        "  test_data.append(encode_text(msg))"
      ],
      "metadata": {
        "id": "JtiuKp5F05x0"
      },
      "execution_count": null,
      "outputs": []
    },
    {
      "cell_type": "code",
      "source": [
        "print(train_data)\n",
        "print(test_data)"
      ],
      "metadata": {
        "id": "ws9F2r_9R4mJ"
      },
      "execution_count": null,
      "outputs": []
    },
    {
      "cell_type": "code",
      "source": [
        "# Create model\n",
        "VOCAB_SIZE = 13484\n",
        "model = keras.Sequential([\n",
        "        keras.layers.Embedding(VOCAB_SIZE, 32),\n",
        "        keras.layers.LSTM(32),\n",
        "        keras.layers.Dense(1, activation = 'sigmoid')\n",
        "])\n",
        "model.summary()"
      ],
      "metadata": {
        "id": "9Dau65WHSDmq"
      },
      "execution_count": null,
      "outputs": []
    },
    {
      "cell_type": "code",
      "source": [
        "# Compile the model\n",
        "model.compile(optimizer = 'adam', loss = 'binary_crossentropy', metrics = ['acc'])"
      ],
      "metadata": {
        "id": "HijTwTP2TK5C"
      },
      "execution_count": null,
      "outputs": []
    },
    {
      "cell_type": "code",
      "source": [
        "# Train the model\n",
        "model.fit(np.array(train_data), np.array(train_labels), epochs = 10, validation_split = 0.2)"
      ],
      "metadata": {
        "id": "VkPkIwFMTYA6"
      },
      "execution_count": null,
      "outputs": []
    },
    {
      "cell_type": "code",
      "execution_count": null,
      "metadata": {
        "id": "J9tD9yACG6M9"
      },
      "outputs": [],
      "source": [
        "# function to predict messages based on model\n",
        "# (should return list containing prediction and label, ex. [0.008318834938108921, 'ham'])\n",
        "def predict_message(pred_text):\n",
        "\n",
        "  encoded_text = encode_text(pred_text)\n",
        "  pred = np.zeros((1,MAXLEN))\n",
        "  pred[0] = encoded_text\n",
        "  prediction = [\"ham\" if model.predict(pred)>=0.5 else \"spam\"]\n",
        "  print(prediction)\n",
        "  return (prediction)\n",
        "\n",
        "pred_text = \"how are you doing today?\"\n",
        "\n",
        "prediction = predict_message(pred_text)\n",
        "print(prediction)"
      ]
    },
    {
      "cell_type": "code",
      "execution_count": null,
      "metadata": {
        "id": "Dxotov85SjsC"
      },
      "outputs": [],
      "source": [
        "# Run this cell to test your function and model. Do not modify contents.\n",
        "def test_predictions():\n",
        "  test_messages = [\"how are you doing today\",\n",
        "                   \"sale today! to stop texts call 98912460324\",\n",
        "                   \"i dont want to go. can we try it a different day? available sat\",\n",
        "                   \"our new mobile video service is live. just install on your phone to start watching.\",\n",
        "                   \"you have won £1000 cash! call to claim your prize.\",\n",
        "                   \"i'll bring it tomorrow. don't forget the milk.\",\n",
        "                   \"wow, is your arm alright. that happened to me one time too\"\n",
        "                  ]\n",
        "\n",
        "  test_answers = [\"ham\", \"spam\", \"ham\", \"spam\", \"spam\", \"ham\", \"ham\"]\n",
        "  passed = True\n",
        "\n",
        "  for msg, ans in zip(test_messages, test_answers):\n",
        "    prediction = predict_message(msg)\n",
        "    print(prediction[0], ans)\n",
        "    if prediction[0] != ans:\n",
        "      passed = False\n",
        "\n",
        "  if passed:\n",
        "    print(\"You passed the challenge. Great job!\")\n",
        "  else:\n",
        "    print(\"You haven't passed yet. Keep trying.\")\n",
        "\n",
        "test_predictions()\n"
      ]
    }
  ],
  "metadata": {
    "colab": {
      "collapsed_sections": [],
      "name": "fcc_sms_text_classification.ipynb",
      "private_outputs": true,
      "provenance": []
    },
    "kernelspec": {
      "display_name": "Python 3",
      "name": "python3"
    },
    "language_info": {},
    "gpuClass": "standard"
  },
  "nbformat": 4,
  "nbformat_minor": 0
}